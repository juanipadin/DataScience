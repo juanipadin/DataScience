{
  "metadata": {
    "language_info": {
      "codemirror_mode": {
        "name": "python",
        "version": 3
      },
      "file_extension": ".py",
      "mimetype": "text/x-python",
      "name": "python",
      "nbconvert_exporter": "python",
      "pygments_lexer": "ipython3",
      "version": "3.8"
    },
    "kernelspec": {
      "name": "python",
      "display_name": "Python (Pyodide)",
      "language": "python"
    }
  },
  "nbformat_minor": 4,
  "nbformat": 4,
  "cells": [
    {
      "cell_type": "markdown",
      "source": "# Data Science Tools and Ecosystem\n\nIn this notebook, Data Science Tools and Ecosystem are summarized.\n",
      "metadata": {}
    },
    {
      "cell_type": "markdown",
      "source": "**Objectives:**\n<ul>\n<li>List popular languages for Data Science</li>\n<li>Commonly used libraries used by Data Scientists</li>\n<li>Few examples of evaluating arithmetic expressions</li>\n</ul>",
      "metadata": {}
    },
    {
      "cell_type": "markdown",
      "source": "Some of the popular languages that Data Scientists use are:\n<ol>\n<li>Python</li>\n<li>R</li>\n<li>Ruby</li>\n</ol>\n\nSome of the commonly used libraries used by Data Scientists include:\n<ol>\n<li>TensorFlow</li>\n<li>NumPy</li>\n<li>SciPy</li>\n</ol>\n\n",
      "metadata": {}
    },
    {
      "cell_type": "markdown",
      "source": "| Data Science Tools|\n|-----------------|\n|Jupyter Notebook|\n|RStudio|\n|Visual Studio Code|",
      "metadata": {}
    },
    {
      "cell_type": "markdown",
      "source": "### Below are a few examples of evaluating arithmetic expressions in Python",
      "metadata": {}
    },
    {
      "cell_type": "code",
      "source": "#This a simple arithmetic expression to mutiply then add integers\n(3*4)+5\n#This will convert 200 minutes to hours by diving by 60\n200/60",
      "metadata": {
        "trusted": true
      },
      "execution_count": 11,
      "outputs": [
        {
          "execution_count": 11,
          "output_type": "execute_result",
          "data": {
            "text/plain": "3.3333333333333335"
          },
          "metadata": {}
        }
      ]
    },
    {
      "cell_type": "markdown",
      "source": "## Author\nJuan I. Padin",
      "metadata": {}
    }
  ]
}